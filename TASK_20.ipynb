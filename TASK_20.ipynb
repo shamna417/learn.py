{
  "nbformat": 4,
  "nbformat_minor": 0,
  "metadata": {
    "colab": {
      "name": "TASK 20.ipynb",
      "provenance": []
    },
    "kernelspec": {
      "name": "python3",
      "display_name": "Python 3"
    },
    "language_info": {
      "name": "python"
    }
  },
  "cells": [
    {
      "cell_type": "markdown",
      "metadata": {
        "id": "8LIfdcjDWmC3"
      },
      "source": [
        "1. In the data given below,\n",
        "  - find the boolean mask where value is nan\n",
        "  - remove the row with missing data.\n"
      ]
    },
    {
      "cell_type": "markdown",
      "metadata": {
        "id": "VPCGISRTbYPz"
      },
      "source": [
        ""
      ]
    },
    {
      "cell_type": "code",
      "metadata": {
        "colab": {
          "base_uri": "https://localhost:8080/"
        },
        "id": "VsZQYRqXXHpG",
        "outputId": "2f271dfb-9c9b-49a1-d91e-6d884f16023d"
      },
      "source": [
        "import pandas as pd\n",
        "import numpy as np\n",
        "dates = pd.date_range('20210101',periods=6)\n",
        "df = pd.DataFrame(np.random.randn(6,4), index=dates,columns=list('ABCD'))\n",
        "s1 = pd.Series([1,2,3,4,5,6], index=pd.date_range('20130102', periods=6))\n",
        "df[\"F\"]=s1\n",
        "df1=df.reindex(index=dates[0:4], columns=list(df.columns) + ['E'])\n",
        "df1.loc[dates[0]:dates[1],'E'] = 1\n",
        "df1\n",
        "#please provide your answer below this line\n",
        "print(df1.isnull())\n",
        "print(df1.dropna(axis=0))"
      ],
      "execution_count": 1,
      "outputs": [
        {
          "output_type": "stream",
          "name": "stdout",
          "text": [
            "                A      B      C      D     F      E\n",
            "2021-01-01  False  False  False  False  True  False\n",
            "2021-01-02  False  False  False  False  True  False\n",
            "2021-01-03  False  False  False  False  True   True\n",
            "2021-01-04  False  False  False  False  True   True\n",
            "Empty DataFrame\n",
            "Columns: [A, B, C, D, F, E]\n",
            "Index: []\n"
          ]
        }
      ]
    },
    {
      "cell_type": "markdown",
      "metadata": {
        "id": "z1sv0aluZhcd"
      },
      "source": [
        "2. In the data given below,fill the missing data with 20."
      ]
    },
    {
      "cell_type": "code",
      "metadata": {
        "colab": {
          "base_uri": "https://localhost:8080/"
        },
        "id": "x3ZHFCeyZ0j2",
        "outputId": "d7f2abe9-9881-41f9-9be5-bf389d73f9b0"
      },
      "source": [
        "import pandas as pd\n",
        "import numpy as np\n",
        "dates = pd.date_range('20210101',periods=6)\n",
        "df = pd.DataFrame(np.random.randn(6,4), index=dates,columns=list('ABCD'))\n",
        "s1 = pd.Series([1,2,3,4,5,6], index=pd.date_range('20130102', periods=6))\n",
        "df[\"F\"]=s1\n",
        "df1=df.reindex(index=dates[0:4], columns=list(df.columns) + ['E'])\n",
        "df1.loc[dates[0]:dates[1],'E'] = 1\n",
        "df1\n",
        "#please provide your answer below this line.\n",
        "print(df1.fillna(value=20))"
      ],
      "execution_count": 2,
      "outputs": [
        {
          "output_type": "stream",
          "name": "stdout",
          "text": [
            "                   A         B         C         D     F     E\n",
            "2021-01-01  0.807724  2.010903  0.151693  0.984438  20.0   1.0\n",
            "2021-01-02  1.424878 -1.029069  1.276073  0.274471  20.0   1.0\n",
            "2021-01-03 -0.032950 -0.011347  0.439567  0.907124  20.0  20.0\n",
            "2021-01-04 -0.580424 -1.181121 -1.256399 -0.518607  20.0  20.0\n"
          ]
        }
      ]
    },
    {
      "cell_type": "markdown",
      "metadata": {
        "id": "vMzwvpxcZ3G8"
      },
      "source": [
        "3. From the data given below,\n",
        "  - break the data in to pieces from 0 t0 2 ,3 t0 7\n",
        "  - concatenate the pieces.\n",
        "  - concatenate the pieces along axis 1\n",
        "  - label each as 'a' and 'b' respectively and perform concatenation."
      ]
    },
    {
      "cell_type": "code",
      "metadata": {
        "colab": {
          "base_uri": "https://localhost:8080/"
        },
        "id": "LxGwKPTVbbXV",
        "outputId": "7c5e3f39-93b2-493a-9ba4-b506da7fe040"
      },
      "source": [
        "import pandas as pd\n",
        "import numpy as np\n",
        "df = pd.DataFrame(np.random.randn(10, 4))\n",
        "df\n",
        "#please provide your answer below this line\n",
        "pieces=[df[:3],df[3:8]]\n",
        "print(pieces)\n",
        "print(pd.concat(pieces))\n",
        "print(pd.concat(pieces,axis=1))\n",
        "a=df[:3]\n",
        "b=df[3:8]\n",
        "print(pd.concat([a,]))\n"
      ],
      "execution_count": 4,
      "outputs": [
        {
          "output_type": "stream",
          "name": "stdout",
          "text": [
            "[          0         1         2         3\n",
            "0 -0.594964 -0.787585 -1.055403 -0.563399\n",
            "1  0.559601 -0.089210 -0.674551  0.509731\n",
            "2  0.793215 -0.434149 -0.275002  0.384124,           0         1         2         3\n",
            "3  0.662672 -0.078487  2.029383  1.291052\n",
            "4  0.624606  0.088629 -1.028915  0.039179\n",
            "5 -0.242212 -0.173432 -0.852334  0.924343\n",
            "6 -0.685197  2.310137  1.307202  1.401183\n",
            "7  0.298240  0.992146  0.312415  0.424615]\n",
            "          0         1         2         3\n",
            "0 -0.594964 -0.787585 -1.055403 -0.563399\n",
            "1  0.559601 -0.089210 -0.674551  0.509731\n",
            "2  0.793215 -0.434149 -0.275002  0.384124\n",
            "3  0.662672 -0.078487  2.029383  1.291052\n",
            "4  0.624606  0.088629 -1.028915  0.039179\n",
            "5 -0.242212 -0.173432 -0.852334  0.924343\n",
            "6 -0.685197  2.310137  1.307202  1.401183\n",
            "7  0.298240  0.992146  0.312415  0.424615\n",
            "          0         1         2  ...         1         2         3\n",
            "0 -0.594964 -0.787585 -1.055403  ...       NaN       NaN       NaN\n",
            "1  0.559601 -0.089210 -0.674551  ...       NaN       NaN       NaN\n",
            "2  0.793215 -0.434149 -0.275002  ...       NaN       NaN       NaN\n",
            "3       NaN       NaN       NaN  ... -0.078487  2.029383  1.291052\n",
            "4       NaN       NaN       NaN  ...  0.088629 -1.028915  0.039179\n",
            "5       NaN       NaN       NaN  ... -0.173432 -0.852334  0.924343\n",
            "6       NaN       NaN       NaN  ...  2.310137  1.307202  1.401183\n",
            "7       NaN       NaN       NaN  ...  0.992146  0.312415  0.424615\n",
            "\n",
            "[8 rows x 8 columns]\n",
            "          0         1         2         3\n",
            "0 -0.594964 -0.787585 -1.055403 -0.563399\n",
            "1  0.559601 -0.089210 -0.674551  0.509731\n",
            "2  0.793215 -0.434149 -0.275002  0.384124\n"
          ]
        }
      ]
    },
    {
      "cell_type": "code",
      "metadata": {
        "id": "h290MAgudPQI"
      },
      "source": [
        ""
      ],
      "execution_count": null,
      "outputs": []
    }
  ]
}