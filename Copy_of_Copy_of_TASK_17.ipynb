{
  "nbformat": 4,
  "nbformat_minor": 0,
  "metadata": {
    "colab": {
      "name": "Copy of Copy of TASK 17.ipynb",
      "provenance": []
    },
    "kernelspec": {
      "name": "python3",
      "display_name": "Python 3"
    },
    "language_info": {
      "name": "python"
    }
  },
  "cells": [
    {
      "cell_type": "markdown",
      "metadata": {
        "id": "0SLapvpoaeYY"
      },
      "source": [
        "1. Create a DataFrame by passing a random numpy array,with a datetie index and labelled columns.and display its,\n",
        "     - Head\n",
        "     - Tail\n",
        "     - Index \n",
        "     - Columns\n",
        "     - Values\n",
        "     - statistics\n"
      ]
    },
    {
      "cell_type": "code",
      "metadata": {
        "id": "zJDkjyVxa5yU",
        "colab": {
          "base_uri": "https://localhost:8080/"
        },
        "outputId": "edac295d-9735-4add-cdc9-ac6f21429fd1"
      },
      "source": [
        "#please type your answer below this line.\n",
        "import pandas as pd\n",
        "import numpy as np\n",
        "dates=pd.date_range('20201010',periods=6)\n",
        "df=pd.DataFrame(np.random.randn(6,4),index=dates,columns=list('ABCD'))\n",
        "print(df)\n",
        "print(df.head())\n",
        "print(df.tail())\n",
        "print(df.index)\n",
        "print(df.columns)\n",
        "print(df.values)\n",
        "print(df.describe())"
      ],
      "execution_count": null,
      "outputs": [
        {
          "output_type": "stream",
          "name": "stdout",
          "text": [
            "                   A         B         C         D\n",
            "2020-10-10  0.229793  0.739340 -1.168041  0.191802\n",
            "2020-10-11  1.630682 -0.425893  1.155150 -0.908229\n",
            "2020-10-12 -0.522715  0.014516 -0.848696 -1.590556\n",
            "2020-10-13 -1.488578  0.542794 -0.247665 -0.388802\n",
            "2020-10-14  0.098391  0.272802 -0.328986 -0.439401\n",
            "2020-10-15  1.299097 -1.385007  1.069673 -0.125469\n",
            "                   A         B         C         D\n",
            "2020-10-10  0.229793  0.739340 -1.168041  0.191802\n",
            "2020-10-11  1.630682 -0.425893  1.155150 -0.908229\n",
            "2020-10-12 -0.522715  0.014516 -0.848696 -1.590556\n",
            "2020-10-13 -1.488578  0.542794 -0.247665 -0.388802\n",
            "2020-10-14  0.098391  0.272802 -0.328986 -0.439401\n",
            "                   A         B         C         D\n",
            "2020-10-11  1.630682 -0.425893  1.155150 -0.908229\n",
            "2020-10-12 -0.522715  0.014516 -0.848696 -1.590556\n",
            "2020-10-13 -1.488578  0.542794 -0.247665 -0.388802\n",
            "2020-10-14  0.098391  0.272802 -0.328986 -0.439401\n",
            "2020-10-15  1.299097 -1.385007  1.069673 -0.125469\n",
            "DatetimeIndex(['2020-10-10', '2020-10-11', '2020-10-12', '2020-10-13',\n",
            "               '2020-10-14', '2020-10-15'],\n",
            "              dtype='datetime64[ns]', freq='D')\n",
            "Index(['A', 'B', 'C', 'D'], dtype='object')\n",
            "[[ 0.22979317  0.73933955 -1.16804113  0.19180153]\n",
            " [ 1.63068181 -0.42589324  1.15514969 -0.9082295 ]\n",
            " [-0.52271548  0.01451595 -0.84869619 -1.59055573]\n",
            " [-1.48857816  0.54279396 -0.24766462 -0.38880218]\n",
            " [ 0.09839093  0.27280166 -0.32898648 -0.43940068]\n",
            " [ 1.29909723 -1.38500698  1.06967285 -0.12546926]]\n",
            "              A         B         C         D\n",
            "count  6.000000  6.000000  6.000000  6.000000\n",
            "mean   0.207778 -0.040242 -0.061428 -0.543443\n",
            "std    1.152331  0.775344  0.970578  0.629212\n",
            "min   -1.488578 -1.385007 -1.168041 -1.590556\n",
            "25%   -0.367439 -0.315791 -0.718769 -0.791022\n",
            "50%    0.164092  0.143659 -0.288326 -0.414101\n",
            "75%    1.031771  0.475296  0.740338 -0.191302\n",
            "max    1.630682  0.739340  1.155150  0.191802\n"
          ]
        }
      ]
    },
    {
      "cell_type": "markdown",
      "metadata": {
        "id": "xnkA2mKDdyoO"
      },
      "source": [
        "2. Use the above table and,\n",
        "      - find transpose of your data.\n",
        "      - sort the index in the descending order of the date."
      ]
    },
    {
      "cell_type": "code",
      "metadata": {
        "id": "uqcQSEOufJ5P",
        "colab": {
          "base_uri": "https://localhost:8080/"
        },
        "outputId": "b88fe39b-48c2-43d7-8288-0caa5aec961f"
      },
      "source": [
        "#please provide your answer below this line.\n",
        "print(df.transpose())\n",
        "print(df.sort_index (ascending=False))\n",
        "\n"
      ],
      "execution_count": null,
      "outputs": [
        {
          "output_type": "stream",
          "name": "stdout",
          "text": [
            "   2020-10-10  2020-10-11  2020-10-12  2020-10-13  2020-10-14  2020-10-15\n",
            "A   -0.462106   -0.250507   -0.772477    2.886772   -2.416786   -0.856105\n",
            "B   -0.324133   -0.713824   -0.106324    1.416301   -0.344228   -0.114524\n",
            "C    0.182601   -0.032263   -0.492165    0.217616   -0.735796   -0.619098\n",
            "D    0.429850   -0.760816   -0.119386    0.351333   -0.181856   -0.196162\n",
            "                   A         B         C         D\n",
            "2020-10-15 -0.856105 -0.114524 -0.619098 -0.196162\n",
            "2020-10-14 -2.416786 -0.344228 -0.735796 -0.181856\n",
            "2020-10-13  2.886772  1.416301  0.217616  0.351333\n",
            "2020-10-12 -0.772477 -0.106324 -0.492165 -0.119386\n",
            "2020-10-11 -0.250507 -0.713824 -0.032263 -0.760816\n",
            "2020-10-10 -0.462106 -0.324133  0.182601  0.429850\n"
          ]
        }
      ]
    },
    {
      "cell_type": "markdown",
      "metadata": {
        "id": "ss7s_8iDbAcL"
      },
      "source": [
        ""
      ]
    }
  ]
}