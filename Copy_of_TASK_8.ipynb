{
  "nbformat": 4,
  "nbformat_minor": 0,
  "metadata": {
    "colab": {
      "name": "Copy of TASK 8.ipynb",
      "provenance": []
    },
    "kernelspec": {
      "name": "python3",
      "display_name": "Python 3"
    },
    "language_info": {
      "name": "python"
    }
  },
  "cells": [
    {
      "cell_type": "markdown",
      "metadata": {
        "id": "slsGswYbJSo7"
      },
      "source": [
        "1. Generate a 3 x 3 matrix using random module."
      ]
    },
    {
      "cell_type": "code",
      "metadata": {
        "id": "GGRQSYyNJW9t",
        "colab": {
          "base_uri": "https://localhost:8080/"
        },
        "outputId": "12302baa-f8c7-4230-c62d-af3e6fa6ac4f"
      },
      "source": [
        " \n",
        "import numpy as np\n",
        " \n",
        "array = np.random.randint( 10,size=(3, 3)) \n",
        " \n",
        "print(array)"
      ],
      "execution_count": null,
      "outputs": [
        {
          "output_type": "stream",
          "text": [
            "[[3 9 6]\n",
            " [8 6 6]\n",
            " [5 1 6]]\n"
          ],
          "name": "stdout"
        }
      ]
    },
    {
      "cell_type": "markdown",
      "metadata": {
        "id": "4OB9KFX6JfYA"
      },
      "source": [
        "2. Generate two 4 x 4 matrix using numpy and \n",
        "\n",
        " a) Reshape it to 2 x 8matrix and vertically stack it.\n",
        "\n",
        " b) Reshape it to 2 x 8 matrix and horizontally stack it."
      ]
    },
    {
      "cell_type": "code",
      "metadata": {
        "id": "VoIqYeNWJ4H_",
        "colab": {
          "base_uri": "https://localhost:8080/"
        },
        "outputId": "79888f64-601f-4a08-d4e8-1d38279dca32"
      },
      "source": [
        " \n",
        "import numpy as np\n",
        "array1= np.random.randint(10,size=(4,4))\n",
        "print(array1)\n",
        "array2=np.random.randint(10,size=(4,4))\n",
        "print(array2)\n",
        "x=array1.reshape(2,8)\n",
        "y=array2.reshape(2,8)\n",
        "print (np.hstack((x,y)))\n",
        "print (np.vstack((x,y)))"
      ],
      "execution_count": null,
      "outputs": [
        {
          "output_type": "stream",
          "text": [
            "[[6 4 3 4]\n",
            " [1 7 9 3]\n",
            " [5 7 3 3]\n",
            " [2 5 9 7]]\n",
            "[[7 2 4 7]\n",
            " [8 2 7 2]\n",
            " [6 7 8 8]\n",
            " [8 6 9 1]]\n",
            "[[6 4 3 4 1 7 9 3 7 2 4 7 8 2 7 2]\n",
            " [5 7 3 3 2 5 9 7 6 7 8 8 8 6 9 1]]\n",
            "[[6 4 3 4 1 7 9 3]\n",
            " [5 7 3 3 2 5 9 7]\n",
            " [7 2 4 7 8 2 7 2]\n",
            " [6 7 8 8 8 6 9 1]]\n"
          ],
          "name": "stdout"
        }
      ]
    }
  ]
}