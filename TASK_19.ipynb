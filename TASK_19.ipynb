{
  "nbformat": 4,
  "nbformat_minor": 0,
  "metadata": {
    "colab": {
      "name": "TASK 19.ipynb",
      "provenance": []
    },
    "kernelspec": {
      "name": "python3",
      "display_name": "Python 3"
    },
    "language_info": {
      "name": "python"
    }
  },
  "cells": [
    {
      "cell_type": "markdown",
      "metadata": {
        "id": "6J-6GvX2JUcC"
      },
      "source": [
        "1. Create a DataFrame by passing a random numpy array,with a dateted index and labelled columns and display,\n",
        "  - where values of the column A is greater than 0.\n",
        "  - where values of the columns A is greater than 0 and B greater than -1.\n",
        "  - where values of the columns A  is greater than 0 or B greater than -1.\n"
      ]
    },
    {
      "cell_type": "code",
      "metadata": {
        "id": "xX-5VikpLcHL",
        "outputId": "51e50966-de37-4506-d140-da2290c5b17b",
        "colab": {
          "base_uri": "https://localhost:8080/"
        }
      },
      "source": [
        "#please type your code below this line.\n",
        "import pandas as pd\n",
        "import numpy as np\n",
        "dates=pd.date_range('20201010',periods=6)\n",
        "df=pd.DataFrame(np.random.randn(6,4),index=dates,columns=list('ABCD'))\n",
        "print(df)\n",
        "a=df[df.A>0]\n",
        "print(a)\n",
        "print(df[(df.A>0)&(df.B>-1)])\n",
        "print(df[(df.A>0)|(df.B>-1)])\n",
        "\n"
      ],
      "execution_count": 3,
      "outputs": [
        {
          "output_type": "stream",
          "name": "stdout",
          "text": [
            "                   A         B         C         D\n",
            "2020-10-10 -0.068305 -1.306519  0.065575  0.571515\n",
            "2020-10-11  1.528051  0.245919 -1.768311  0.999620\n",
            "2020-10-12 -0.136527  1.145111  1.059060  0.703477\n",
            "2020-10-13  0.998751  1.381902 -0.154662  1.322592\n",
            "2020-10-14  1.943924 -0.146068 -0.413739 -1.210299\n",
            "2020-10-15 -1.199096  0.635476 -0.017371 -0.923861\n",
            "                   A         B         C         D\n",
            "2020-10-11  1.528051  0.245919 -1.768311  0.999620\n",
            "2020-10-13  0.998751  1.381902 -0.154662  1.322592\n",
            "2020-10-14  1.943924 -0.146068 -0.413739 -1.210299\n",
            "                   A         B         C         D\n",
            "2020-10-11  1.528051  0.245919 -1.768311  0.999620\n",
            "2020-10-13  0.998751  1.381902 -0.154662  1.322592\n",
            "2020-10-14  1.943924 -0.146068 -0.413739 -1.210299\n",
            "                   A         B         C         D\n",
            "2020-10-11  1.528051  0.245919 -1.768311  0.999620\n",
            "2020-10-12 -0.136527  1.145111  1.059060  0.703477\n",
            "2020-10-13  0.998751  1.381902 -0.154662  1.322592\n",
            "2020-10-14  1.943924 -0.146068 -0.413739 -1.210299\n",
            "2020-10-15 -1.199096  0.635476 -0.017371 -0.923861\n"
          ]
        }
      ]
    },
    {
      "cell_type": "markdown",
      "metadata": {
        "id": "1WAf9SbwLp6o"
      },
      "source": [
        "2. Create a DataFrame by passing a random numpy array,with a dateted index and labelled columns and check if ,\n",
        "  - the values of the table are greater the zero or not.\n",
        "  - the value at the postion (0,0) is equal to NaN or not."
      ]
    },
    {
      "cell_type": "code",
      "metadata": {
        "id": "rBrt8pMeM2Q5",
        "outputId": "00961c32-b686-4e02-ef7d-96b7a0fe7abd",
        "colab": {
          "base_uri": "https://localhost:8080/"
        }
      },
      "source": [
        "#please type your code below this line.\n",
        "import pandas as pd\n",
        "import numpy as np\n",
        "dates=pd.date_range('20201010',periods=6)\n",
        "df=pd.DataFrame(np.random.randn(6,4),index=dates,columns=list('ABCD'))\n",
        "print(df)\n",
        "print(df>0)\n",
        "df1=df.loc[dates[0],'A']\n",
        "print(pd.isna(df1))\n"
      ],
      "execution_count": 4,
      "outputs": [
        {
          "output_type": "stream",
          "name": "stdout",
          "text": [
            "                   A         B         C         D\n",
            "2020-10-10 -0.278881  0.222947  0.655896  1.630388\n",
            "2020-10-11 -1.438943 -0.221029 -0.665634 -0.844966\n",
            "2020-10-12  1.888092 -0.193195  0.299447 -0.999078\n",
            "2020-10-13 -1.155423  0.178632  0.874961  0.903534\n",
            "2020-10-14 -1.392201  0.422196  0.143034  0.964184\n",
            "2020-10-15  1.017012  0.744990 -0.189644 -0.196797\n",
            "                A      B      C      D\n",
            "2020-10-10  False   True   True   True\n",
            "2020-10-11  False  False  False  False\n",
            "2020-10-12   True  False   True  False\n",
            "2020-10-13  False   True   True   True\n",
            "2020-10-14  False   True   True   True\n",
            "2020-10-15   True   True  False  False\n",
            "False\n"
          ]
        }
      ]
    },
    {
      "cell_type": "markdown",
      "metadata": {
        "id": "IfM9XYmiNaKB"
      },
      "source": [
        "3. Create a DataFrame by passing a random numpy array,with a dateted index and labelled columns and,\n",
        "  - reindex the index with even dates.\n",
        "  - create a column with values NaN.\n",
        "  - make the values of the first two index of the newly created column as 1"
      ]
    },
    {
      "cell_type": "code",
      "metadata": {
        "id": "F-w8kEfaORg3",
        "outputId": "ca03097c-236e-426a-8590-deec5432eb63",
        "colab": {
          "base_uri": "https://localhost:8080/"
        }
      },
      "source": [
        "#please type your answer below this line.\n",
        "import pandas as pd\n",
        "import numpy as np\n",
        "dates=pd.date_range('20201010',periods=6)\n",
        "df=pd.DataFrame(np.random.randn(6,4),index=dates,columns=list('ABCD'))\n",
        "print(df1)\n",
        "df1=df.reindex(index=dates[::2],columns=list(df.columns))\n",
        "print(df1.assign(E=np.nan))\n",
        "df1.loc[dates[0]:dates[2],'E']=1\n",
        "print(df1)"
      ],
      "execution_count": 6,
      "outputs": [
        {
          "output_type": "stream",
          "name": "stdout",
          "text": [
            "                   A         B         C         D\n",
            "2020-10-10 -0.030510  1.415249 -0.391450 -0.127317\n",
            "2020-10-12 -0.617907  1.978220  0.915107 -1.398970\n",
            "2020-10-14 -1.273560  0.188591 -2.188918 -0.440574\n",
            "                   A         B         C         D   E\n",
            "2020-10-10 -0.003810 -0.691257 -0.549577 -0.242256 NaN\n",
            "2020-10-12  0.104786 -0.324925  1.661301  1.045693 NaN\n",
            "2020-10-14  0.294068  1.524385 -0.607856 -0.955656 NaN\n",
            "                   A         B         C         D    E\n",
            "2020-10-10 -0.003810 -0.691257 -0.549577 -0.242256  1.0\n",
            "2020-10-12  0.104786 -0.324925  1.661301  1.045693  1.0\n",
            "2020-10-14  0.294068  1.524385 -0.607856 -0.955656  NaN\n"
          ]
        }
      ]
    }
  ]
}