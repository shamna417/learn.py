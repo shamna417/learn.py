{
  "nbformat": 4,
  "nbformat_minor": 0,
  "metadata": {
    "colab": {
      "name": "TASK  7.ipynb",
      "provenance": []
    },
    "kernelspec": {
      "name": "python3",
      "display_name": "Python 3"
    },
    "language_info": {
      "name": "python"
    }
  },
  "cells": [
    {
      "cell_type": "markdown",
      "metadata": {
        "id": "b0V3vwzcydKy"
      },
      "source": [
        "1. Write a program to check whether a  string is palindrome or not using functions. \n",
        "\n",
        "   ( A function is to be created to check whether the string is palindrome and it should give the output true or false to the main program)"
      ]
    },
    {
      "cell_type": "code",
      "metadata": {
        "id": "M2Mi7EOdyxiu",
        "outputId": "31915d85-19ef-43f2-d925-2d1d9d330c22",
        "colab": {
          "base_uri": "https://localhost:8080/"
        }
      },
      "source": [
        "s=input(\"enter the string:\")\n",
        "if (s==s[::-1]):\n",
        "   print(\"this is a palindrome\")\n",
        "else:\n",
        "    print(\"this is not a palindrome\")\n"
      ],
      "execution_count": 1,
      "outputs": [
        {
          "output_type": "stream",
          "text": [
            "enter the string:alphobia\n",
            "this is not a palindrome\n"
          ],
          "name": "stdout"
        }
      ]
    },
    {
      "cell_type": "markdown",
      "metadata": {
        "id": "vSiShTyOzEz-"
      },
      "source": [
        "2.  Write a menu driven program to find largest element in L, smallest element, avg of all values, sum of all values in L. All these operation should be performed in different functions and the result should be returned.\n",
        "\n",
        "\n",
        "      L=[23,24,11,90,1,41,9,99,28,56,72]"
      ]
    },
    {
      "cell_type": "code",
      "metadata": {
        "id": "fRtMIw_CzsmO",
        "outputId": "980f8169-5343-46b1-e82d-2aa589fc498a",
        "colab": {
          "base_uri": "https://localhost:8080/"
        }
      },
      "source": [
        "L=[23,24,11,90,1,41,9,99,28,56,72]\n",
        "def largest(L):\n",
        "   max=L[0]\n",
        "   for x in L:\n",
        "     if x > max:\n",
        "       max=x\n",
        "   return max\n",
        "def smallest(L):\n",
        "  min=L[0]\n",
        "  for x in L:\n",
        "    if x <min:\n",
        "       min = x\n",
        "  return min\n",
        "def avarage(L):\n",
        "  return sum(L)/len(L)\n",
        "def sums(L):\n",
        "  return sum(L)\n",
        "while True:\n",
        "  print(\"menu driven program\")\n",
        "  print(\"1.largest number of L\")\n",
        "  print(\"2.smallest number of L\")\n",
        "  print(\"3.average of all numbers\")\n",
        "  print(\"4.sum of all elements\")\n",
        "  print(\"5.exit\")\n",
        "  choice=int(input(\"enter your choice:\"))\n",
        "  if(choice==1):\n",
        "    print(\"largest number of L is\",largest(L))\n",
        "  elif(choice==2):\n",
        "    print (\"smallest number of L is\",smallest(L))\n",
        "  elif(choice==3):\n",
        "      print(\"average of all the numbers in L\",sums(L))\n",
        "  elif(choice==5):\n",
        "        exit()\n",
        "\n",
        "  else:\n",
        "        print(\"wrong choice\")\n"
      ],
      "execution_count": null,
      "outputs": [
        {
          "output_type": "stream",
          "text": [
            "menu driven program\n",
            "1.largest number of L\n",
            "2.smallest number of L\n",
            "3.average of all numbers\n",
            "4.sum of all elements\n",
            "5.exit\n",
            "enter your choice:23\n",
            "wrong choice\n",
            "menu driven program\n",
            "1.largest number of L\n",
            "2.smallest number of L\n",
            "3.average of all numbers\n",
            "4.sum of all elements\n",
            "5.exit\n",
            "enter your choice:11\n",
            "wrong choice\n",
            "menu driven program\n",
            "1.largest number of L\n",
            "2.smallest number of L\n",
            "3.average of all numbers\n",
            "4.sum of all elements\n",
            "5.exit\n",
            "enter your choice:1\n",
            "largest number of L is 99\n",
            "menu driven program\n",
            "1.largest number of L\n",
            "2.smallest number of L\n",
            "3.average of all numbers\n",
            "4.sum of all elements\n",
            "5.exit\n",
            "enter your choice:9\n",
            "wrong choice\n",
            "menu driven program\n",
            "1.largest number of L\n",
            "2.smallest number of L\n",
            "3.average of all numbers\n",
            "4.sum of all elements\n",
            "5.exit\n",
            "enter your choice:41\n",
            "wrong choice\n",
            "menu driven program\n",
            "1.largest number of L\n",
            "2.smallest number of L\n",
            "3.average of all numbers\n",
            "4.sum of all elements\n",
            "5.exit\n",
            "enter your choice:90\n",
            "wrong choice\n",
            "menu driven program\n",
            "1.largest number of L\n",
            "2.smallest number of L\n",
            "3.average of all numbers\n",
            "4.sum of all elements\n",
            "5.exit\n",
            "enter your choice:56\n",
            "wrong choice\n",
            "menu driven program\n",
            "1.largest number of L\n",
            "2.smallest number of L\n",
            "3.average of all numbers\n",
            "4.sum of all elements\n",
            "5.exit\n",
            "enter your choice:2\n",
            "smallest number of L is 1\n",
            "menu driven program\n",
            "1.largest number of L\n",
            "2.smallest number of L\n",
            "3.average of all numbers\n",
            "4.sum of all elements\n",
            "5.exit\n"
          ],
          "name": "stdout"
        }
      ]
    }
  ]
}