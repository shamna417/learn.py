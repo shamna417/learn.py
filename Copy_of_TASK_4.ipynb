{
  "nbformat": 4,
  "nbformat_minor": 0,
  "metadata": {
    "colab": {
      "name": "Copy of TASK 4",
      "provenance": []
    },
    "kernelspec": {
      "name": "python3",
      "display_name": "Python 3"
    },
    "language_info": {
      "name": "python"
    }
  },
  "cells": [
    {
      "cell_type": "markdown",
      "metadata": {
        "id": "jhLooYoXnjso"
      },
      "source": [
        "1. Create a dictionary that contains \n",
        "            name = Alex Ryder\n",
        "            age  = 28\n",
        "Update the age to 32 and another element to the dictionary\n",
        "            age = 32\n",
        "            town = calicut\n",
        "Expected output\n",
        "            {'name': 'Alex Ryder', 'age': 32, 'town': 'calicut'}"
      ]
    },
    {
      "cell_type": "code",
      "metadata": {
        "id": "EE8jp4PMpp4Q",
        "colab": {
          "base_uri": "https://localhost:8080/"
        },
        "outputId": "b148c0bb-df2d-4861-c4cd-672ff1375b27"
      },
      "source": [
        " person = {'name':'Alex Ryder','age':28}\n",
        "person['age'] = 32\n",
        "person['town'] = 'calicut'\n",
        "#person.update(town = 'calicut')\n",
        "print(person)"
      ],
      "execution_count": null,
      "outputs": [
        {
          "output_type": "stream",
          "text": [
            "{'name': 'Alex Ryder', 'age': 32, 'town': 'calicut'}\n"
          ],
          "name": "stdout"
        }
      ]
    },
    {
      "cell_type": "markdown",
      "metadata": {
        "id": "nM1kmYmKqFwT"
      },
      "source": [
        "2. Create a dictionary containing the squares of numbers from 1 to 5.\n",
        "Expected output\n",
        "            {1: 1, 2: 4, 3: 9, 4: 16, 5: 15}\n",
        "\n",
        "From this dictionary remove the item 3 and its square.\n",
        "\n",
        "Expected output\n",
        "                    \n",
        "                {1: 1, 2: 4, 4: 16, 5: 15}\n",
        "\n",
        "Now remove all items from the dictionary.\n",
        "\n",
        "Expected output\n",
        "\n",
        "      {}\n",
        "\n",
        "Now delete the dictionary itself.\n",
        "\n",
        "          "
      ]
    },
    {
      "cell_type": "code",
      "metadata": {
        "id": "VL312SCHygzS",
        "colab": {
          "base_uri": "https://localhost:8080/"
        },
        "outputId": "130d6ca8-4ea5-4bda-f9a4-d4b425827657"
      },
      "source": [
        " dict={1:1, 2:4, 3:9, 4:16, 5:15}\n",
        "print(dict)\n",
        "dict.pop(3)   \n",
        "print(\"Remaining Dictionary items\")\n",
        "print(dict,end=\"\\n\")\n",
        " \n",
        "dict.clear()\n",
        "print(\"Cleared Dictionary\")\n",
        "print(dict)"
      ],
      "execution_count": null,
      "outputs": [
        {
          "output_type": "stream",
          "text": [
            "{1: 1, 2: 4, 3: 9, 4: 16, 5: 15}\n",
            "Remaining Dictionary items\n",
            "{1: 1, 2: 4, 4: 16, 5: 15}\n",
            "Cleared Dictionary\n",
            "{}\n"
          ],
          "name": "stdout"
        }
      ]
    },
    {
      "cell_type": "markdown",
      "metadata": {
        "id": "GaJF8GEPzDQN"
      },
      "source": [
        "3. Make a set containing the elements 1, hello, (0,1,2).\n",
        "\n",
        "Expected output\n",
        "            \n",
        "            {'hello', 1, (0, 1, 2)}\n",
        "\n",
        "Now add the value 6 to the set.\n",
        "\n",
        "Expected output\n",
        "\n",
        "        {'hello', 1, (0, 1, 2), 6}\n",
        "\n",
        "\n",
        "\n"
      ]
    },
    {
      "cell_type": "code",
      "metadata": {
        "id": "RlKGp2E31rZB",
        "colab": {
          "base_uri": "https://localhost:8080/"
        },
        "outputId": "6bbb6add-3b3d-4000-8e7a-f2dfb807323e"
      },
      "source": [
        "dict={1:1, 2:4, 3:9, 4:16, 5:15}\n",
        "print(dict)\n",
        "dict.pop(3)   \n",
        "print(\"Remaining Dictionary items\")\n",
        "print(dict,end=\"\\n\")\n",
        " \n",
        "dict.clear()\n",
        "print(\"Cleared Dictionary\")\n",
        "print(dict)"
      ],
      "execution_count": null,
      "outputs": [
        {
          "output_type": "stream",
          "text": [
            "{1: 1, 2: 4, 3: 9, 4: 16, 5: 15}\n",
            "Remaining Dictionary items\n",
            "{1: 1, 2: 4, 4: 16, 5: 15}\n",
            "Cleared Dictionary\n",
            "{}\n"
          ],
          "name": "stdout"
        }
      ]
    }
  ]
}