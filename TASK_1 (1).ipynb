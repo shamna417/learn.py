{
  "nbformat": 4,
  "nbformat_minor": 0,
  "metadata": {
    "colab": {
      "name": "TASK 1.ipynb",
      "provenance": []
    },
    "kernelspec": {
      "name": "python3",
      "display_name": "Python 3"
    },
    "language_info": {
      "name": "python"
    }
  },
  "cells": [
    {
      "cell_type": "markdown",
      "metadata": {
        "id": "q-yWxfWESiQo"
      },
      "source": [
        "1.Write a program that uses input to prompt a user for their name and then welcomes them."
      ]
    },
    {
      "cell_type": "code",
      "metadata": {
        "id": "9ikpRxqMSxu0",
        "colab": {
          "base_uri": "https://localhost:8080/"
        },
        "outputId": "738b7620-d0f3-495e-dc37-7475ce67b14f"
      },
      "source": [
        "name=input(\"enter name\")\n",
        "print(\"welcome,\",name)"
      ],
      "execution_count": null,
      "outputs": [
        {
          "output_type": "stream",
          "text": [
            "enter namehisrath\n",
            "welcome, hisrath\n"
          ],
          "name": "stdout"
        }
      ]
    },
    {
      "cell_type": "markdown",
      "metadata": {
        "id": "Ay5OdxguS-2Z"
      },
      "source": [
        "2.Write a program which prompts the user for a Celsius temperature, convert the temperature to Fahrenheit, and print out the converted temperature."
      ]
    },
    {
      "cell_type": "code",
      "metadata": {
        "id": "MMv2yWNtTgEu",
        "colab": {
          "base_uri": "https://localhost:8080/"
        },
        "outputId": "579324c1-5e56-418a-8760-08574ec9c50f"
      },
      "source": [
        "celsius=float(input(\"Enter temprature in celsius\"))\n",
        "fahrenheit=(1.8*celsius)+32\n",
        "print(celsius,\"ºc is \",fahrenheit,\"ºF\")"
      ],
      "execution_count": null,
      "outputs": [
        {
          "output_type": "stream",
          "text": [
            "Enter temprature in celsius37\n",
            "37.0 ºc is  98.60000000000001 ºF\n"
          ],
          "name": "stdout"
        }
      ]
    },
    {
      "cell_type": "markdown",
      "metadata": {
        "id": "v6O1a198TpNd"
      },
      "source": [
        "3.Write a Python program to convert degree to radian."
      ]
    },
    {
      "cell_type": "code",
      "metadata": {
        "id": "27Jj4_D0UQBA",
        "colab": {
          "base_uri": "https://localhost:8080/"
        },
        "outputId": "fa0fd3f0-c49f-4e54-9a3b-393385d3cad8"
      },
      "source": [
        "pi=3.1415\n",
        "degree=float(input(\"enter the angle in degree\"))\n",
        "rad=degree*pi/180\n",
        "print(degree,\"degree is \", rad,\"radian\")\n"
      ],
      "execution_count": null,
      "outputs": [
        {
          "output_type": "stream",
          "text": [
            "enter the angle in degree45\n",
            "45.0 degree is  0.785375 radian\n"
          ],
          "name": "stdout"
        }
      ]
    }
  ]
}