{
  "nbformat": 4,
  "nbformat_minor": 0,
  "metadata": {
    "colab": {
      "name": "TASK 18.ipynb",
      "provenance": []
    },
    "kernelspec": {
      "name": "python3",
      "display_name": "Python 3"
    },
    "language_info": {
      "name": "python"
    }
  },
  "cells": [
    {
      "cell_type": "markdown",
      "metadata": {
        "id": "_JgXT8pEAjU4"
      },
      "source": [
        "1. \n",
        "Create a DataFrame by passing a random numpy array,with a datetie index and labelled columns.and,\n",
        "    - slice its first three rows and display.\n",
        "    - slice its odd indexed rows.\n",
        "    - display the dates from 1st postion to 4 th position."
      ]
    },
    {
      "cell_type": "code",
      "metadata": {
        "id": "5zFM5VOJBKBV",
        "outputId": "836ff534-3b95-487b-f7c7-044ebbd3c3db",
        "colab": {
          "base_uri": "https://localhost:8080/"
        }
      },
      "source": [
        "#please provide your answer below this line.\n",
        "import pandas as pd\n",
        "import numpy as np\n",
        "dates=pd.date_range('20201010',periods=6)\n",
        "df=pd.DataFrame(np.random.randn(6,4),index=dates,columns=list('ABCD'))\n",
        "print(df)\n",
        "print(df.iloc[0:3])\n",
        "print(df.iloc[1::2])\n",
        "print(df.iloc[1:5])"
      ],
      "execution_count": 2,
      "outputs": [
        {
          "output_type": "stream",
          "name": "stdout",
          "text": [
            "                   A         B         C         D\n",
            "2020-10-10  0.298257  0.810226  0.295543 -0.992353\n",
            "2020-10-11 -0.374607 -2.552633 -0.306568  1.222510\n",
            "2020-10-12 -0.151606  1.132479  1.207056 -0.395903\n",
            "2020-10-13  0.089244 -0.764531 -0.346000 -0.688873\n",
            "2020-10-14 -0.984816  0.577017 -0.585754 -1.008636\n",
            "2020-10-15  1.302890  0.058174 -1.005822  0.351507\n",
            "                   A         B         C         D\n",
            "2020-10-10  0.298257  0.810226  0.295543 -0.992353\n",
            "2020-10-11 -0.374607 -2.552633 -0.306568  1.222510\n",
            "2020-10-12 -0.151606  1.132479  1.207056 -0.395903\n",
            "                   A         B         C         D\n",
            "2020-10-11 -0.374607 -2.552633 -0.306568  1.222510\n",
            "2020-10-13  0.089244 -0.764531 -0.346000 -0.688873\n",
            "2020-10-15  1.302890  0.058174 -1.005822  0.351507\n",
            "                   A         B         C         D\n",
            "2020-10-11 -0.374607 -2.552633 -0.306568  1.222510\n",
            "2020-10-12 -0.151606  1.132479  1.207056 -0.395903\n",
            "2020-10-13  0.089244 -0.764531 -0.346000 -0.688873\n",
            "2020-10-14 -0.984816  0.577017 -0.585754 -1.008636\n"
          ]
        }
      ]
    },
    {
      "cell_type": "markdown",
      "metadata": {
        "id": "QuoucvjxBPmX"
      },
      "source": [
        "2. Create a DataFrame by passing a random numpy array,with a datetie index and labelled columns.and\n",
        "  - Dislplay the index from the 1 to 3 date and the columns A and B of respective data.\n",
        "  - Display the datas at the 3rd index.\n",
        "  - Display datas from 2nd to 5th.\n",
        "  - Display the datas from the index 1,2,4 and the column 0 and 2."
      ]
    },
    {
      "cell_type": "code",
      "metadata": {
        "id": "qV_wzsp1DUKI",
        "outputId": "e16ab4c0-85fc-4148-d8b1-7999c229e196",
        "colab": {
          "base_uri": "https://localhost:8080/"
        }
      },
      "source": [
        "#please provide your answer below thins line.\n",
        "import pandas as pd \n",
        "import numpy as np\n",
        "dates=pd.date_range('20201010',periods=6)\n",
        "df=pd.DataFrame(np.random.randn(6,4),index=dates,columns=list('ABCD'))\n",
        "print(df)\n",
        "print(df.iloc[1:4:,0:2])\n",
        "print(df.iloc[2:6])\n",
        "print(df.iloc[[1,2,4],[0,2]])"
      ],
      "execution_count": 4,
      "outputs": [
        {
          "output_type": "stream",
          "name": "stdout",
          "text": [
            "                   A         B         C         D\n",
            "2020-10-10  0.129092 -0.718712  0.292584 -1.116761\n",
            "2020-10-11  0.027148 -0.330418  1.047143 -0.210458\n",
            "2020-10-12 -1.546247  0.164778  0.400676 -0.417960\n",
            "2020-10-13 -0.322094  1.591135  0.404934 -1.800387\n",
            "2020-10-14 -0.233690  0.395041 -0.932198 -0.412646\n",
            "2020-10-15 -0.180612  0.576720  0.471090  2.238017\n",
            "                   A         B\n",
            "2020-10-11  0.027148 -0.330418\n",
            "2020-10-12 -1.546247  0.164778\n",
            "2020-10-13 -0.322094  1.591135\n",
            "                   A         B         C         D\n",
            "2020-10-12 -1.546247  0.164778  0.400676 -0.417960\n",
            "2020-10-13 -0.322094  1.591135  0.404934 -1.800387\n",
            "2020-10-14 -0.233690  0.395041 -0.932198 -0.412646\n",
            "2020-10-15 -0.180612  0.576720  0.471090  2.238017\n",
            "                   A         C\n",
            "2020-10-11  0.027148  1.047143\n",
            "2020-10-12 -1.546247  0.400676\n",
            "2020-10-14 -0.233690 -0.932198\n"
          ]
        }
      ]
    }
  ]
}