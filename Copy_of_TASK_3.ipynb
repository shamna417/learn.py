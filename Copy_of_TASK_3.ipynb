{
  "nbformat": 4,
  "nbformat_minor": 0,
  "metadata": {
    "colab": {
      "name": "Copy of TASK 3.ipynb",
      "provenance": []
    },
    "kernelspec": {
      "name": "python3",
      "display_name": "Python 3"
    },
    "language_info": {
      "name": "python"
    }
  },
  "cells": [
    {
      "cell_type": "markdown",
      "metadata": {
        "id": "z20IIB0eUQMN"
      },
      "source": [
        "1 - Write a program which takes a number as input from the user and check whether the number is odd or even.If odd print the number is odd if not print it is even."
      ]
    },
    {
      "cell_type": "code",
      "metadata": {
        "id": "dVgGJ-wTVRit",
        "colab": {
          "base_uri": "https://localhost:8080/"
        },
        "outputId": "81e8fb08-35b7-4a2d-9a5f-59a4451bfc0b"
      },
      "source": [
        "a = int(input(\"Enter a number : \"))\n",
        "if(a%2==0):\n",
        "    print(\"\\nGiven number is even\")\n",
        "else:\n",
        "    print(\"\\nGiven number is odd\")"
      ],
      "execution_count": null,
      "outputs": [
        {
          "output_type": "stream",
          "text": [
            "Enter a number : 45\n",
            "\n",
            "Given number is odd\n"
          ],
          "name": "stdout"
        }
      ]
    },
    {
      "cell_type": "markdown",
      "metadata": {
        "id": "7778XD8PVblj"
      },
      "source": [
        "2 -Write a program to find the largest among three numbers and print the largest number."
      ]
    },
    {
      "cell_type": "code",
      "metadata": {
        "id": "m0tUOkOFWR-d",
        "colab": {
          "base_uri": "https://localhost:8080/"
        },
        "outputId": "1fb5a106-2c9f-4174-c462-86f4e1187432"
      },
      "source": [
        " \n",
        " a = int(input(\"Enter the first number : \"))\n",
        "b = int(input(\"Enter the second number : \"))\n",
        "c = int(input(\"Enter the third number : \"))\n",
        "if(a>c):\n",
        "    if(a>b):\n",
        "        print(a,\" is the largest\")\n",
        "    else:\n",
        "        print(b,\" is the largest\")\n",
        "else:\n",
        "    if(b>c):\n",
        "        print(b,\" is the largest\")\n",
        "    else:\n",
        "        print(c,\" is the largest\")"
      ],
      "execution_count": null,
      "outputs": [
        {
          "output_type": "stream",
          "text": [
            "Enter the first number : 2\n",
            "Enter the second number : 18\n",
            "Enter the third number : 36\n",
            "36  is the largest\n"
          ],
          "name": "stdout"
        }
      ]
    },
    {
      "cell_type": "markdown",
      "metadata": {
        "id": "Jg2Ns4OQWaJy"
      },
      "source": [
        "3 -Write a function to prompt for a score between 0.0 and 1.0.\n",
        "\n",
        "    If the score is out of range, print an error.\n",
        "    If the score is between 0.0 and 1.0, print a grade using the following table:\n",
        "    Score Grade\n",
        "             Score\tGrade\n",
        "            >= 0.9\tA\n",
        "            >= 0.8\tB\n",
        "            >= 0.7\tC\n",
        "            >= 0.6\tD\n",
        "             < 0.6\tF\n",
        "If the user enters a value out of range, print a suitable error message and exit. For the test, enter a score of 0.85."
      ]
    },
    {
      "cell_type": "code",
      "metadata": {
        "id": "6DLbGe6XXZPx",
        "colab": {
          "base_uri": "https://localhost:8080/"
        },
        "outputId": "38929cba-7274-48c5-bd2c-f68b5396f0c1"
      },
      "source": [
        "def grade(n):\n",
        "    if(n>0.0 and n<1.0):\n",
        "        if(n>=0.9):\n",
        "            print(\"A\")\n",
        "        elif(n>=0.8):\n",
        "            print(\"B\")\n",
        "        elif(n>=0.7):\n",
        "            print(\"C\")\n",
        "        elif(n>=0.6):\n",
        "            print(\"D\")\n",
        "        elif(n<0.6):\n",
        "            print(\"F\")\n",
        "    else:\n",
        "        print(\"Invalid input\")\n",
        " \n",
        "n = float(input(\"Enter the number: \"))"
      ],
      "execution_count": null,
      "outputs": [
        {
          "output_type": "stream",
          "text": [
            "Enter the number: 0.8\n"
          ],
          "name": "stdout"
        }
      ]
    },
    {
      "cell_type": "markdown",
      "metadata": {
        "id": "-o0scDq7WkVT"
      },
      "source": [
        ""
      ]
    }
  ]
}