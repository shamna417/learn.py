{
  "nbformat": 4,
  "nbformat_minor": 0,
  "metadata": {
    "colab": {
      "name": "Copy of TASK 13.ipynb",
      "provenance": []
    },
    "kernelspec": {
      "name": "python3",
      "display_name": "Python 3"
    },
    "language_info": {
      "name": "python"
    }
  },
  "cells": [
    {
      "cell_type": "markdown",
      "metadata": {
        "id": "RUSoRkrOqNwf"
      },
      "source": [
        "1. Create a 3x3 array values ranging from 0-8.Find the sum of the elements in this array."
      ]
    },
    {
      "cell_type": "code",
      "metadata": {
        "id": "t01ATYQpqq8u",
        "colab": {
          "base_uri": "https://localhost:8080/"
        },
        "outputId": "ccf4ef42-402c-422a-f2ea-13a7345fc709"
      },
      "source": [
        "import numpy as np\n",
        "a=np.arange(0,9).reshape(3,3)\n",
        "print(a)\n",
        "b=np.sum(a)\n",
        "print(b)\n"
      ],
      "execution_count": null,
      "outputs": [
        {
          "output_type": "stream",
          "text": [
            "[[0 1 2]\n",
            " [3 4 5]\n",
            " [6 7 8]]\n",
            "36\n"
          ],
          "name": "stdout"
        }
      ]
    },
    {
      "cell_type": "markdown",
      "metadata": {
        "id": "k3Y7nQF7r3IW"
      },
      "source": [
        "2. Create a 3x3 array values ranging from 0-8.Find the row sum and column sum of this array."
      ]
    },
    {
      "cell_type": "code",
      "metadata": {
        "id": "BzvIlWfvsICv"
      },
      "source": [
        "import numpy as np\n",
        "a=np.arange(0,9).reshape(3,3)\n",
        "print(a)\n",
        "b=a.sum(axis=1)\n",
        "c=a.sum(axis=0)\n",
        "print(b)\n",
        "print(c)\n"
      ],
      "execution_count": null,
      "outputs": []
    },
    {
      "cell_type": "markdown",
      "metadata": {
        "id": "KOPMsbnrsgue"
      },
      "source": [
        "3. Create a 4x4 array values ranging from 0-15. Now,\n",
        "\n",
        "    a) Find the mininmum value in the array.\n",
        "    \n",
        "    b) Find the maximum value in the array.\n",
        "\n",
        "    c) Find the mean of the values in the array."
      ]
    },
    {
      "cell_type": "code",
      "metadata": {
        "id": "1UzITxp3WDaW",
        "colab": {
          "base_uri": "https://localhost:8080/"
        },
        "outputId": "6607b5b7-eb29-4195-a091-cbba8431365d"
      },
      "source": [
        "import numpy as np \n",
        "a=np.arange(0,16).reshape(4,4)\n",
        "print(a)\n",
        "b=np.min(a)\n",
        "c=np.max(a)\n",
        "d=np.mean(a)\n",
        "print(b)\n",
        "print(c)\n",
        "print(d)"
      ],
      "execution_count": null,
      "outputs": [
        {
          "output_type": "stream",
          "text": [
            "[[ 0  1  2  3]\n",
            " [ 4  5  6  7]\n",
            " [ 8  9 10 11]\n",
            " [12 13 14 15]]\n",
            "0\n",
            "15\n",
            "7.5\n"
          ],
          "name": "stdout"
        }
      ]
    },
    {
      "cell_type": "markdown",
      "metadata": {
        "id": "Pah9qGButoz2"
      },
      "source": [
        "4. Create an 10x10 array values ranging from 0-99.And ,\n",
        "\n",
        "    a) Print the 7th row.\n",
        "    \n",
        "    b) Print the rows from 4-8.\n",
        "\n",
        "    c) Print the value at the index 5,5.\n",
        "\n",
        "    d) Print the 5th colomn.\n",
        "\n",
        "    e) Print the columns from 2-5."
      ]
    },
    {
      "cell_type": "code",
      "metadata": {
        "id": "JFXPq0GkvhKi",
        "colab": {
          "base_uri": "https://localhost:8080/"
        },
        "outputId": "6a25a58c-35af-40a0-e808-1d4b54a6f016"
      },
      "source": [
        "import numpy as np\n",
        "a=np.arange(0,100).reshape(10,10)\n",
        "print(a)\n",
        "print(a[6])\n",
        "print(a[3:8])\n",
        "print(a[5][5])\n",
        "print(a[:,4])\n",
        "print(a[:,1:4])\n"
      ],
      "execution_count": null,
      "outputs": [
        {
          "output_type": "stream",
          "text": [
            "[[ 0  1  2  3  4  5  6  7  8  9]\n",
            " [10 11 12 13 14 15 16 17 18 19]\n",
            " [20 21 22 23 24 25 26 27 28 29]\n",
            " [30 31 32 33 34 35 36 37 38 39]\n",
            " [40 41 42 43 44 45 46 47 48 49]\n",
            " [50 51 52 53 54 55 56 57 58 59]\n",
            " [60 61 62 63 64 65 66 67 68 69]\n",
            " [70 71 72 73 74 75 76 77 78 79]\n",
            " [80 81 82 83 84 85 86 87 88 89]\n",
            " [90 91 92 93 94 95 96 97 98 99]]\n",
            "[60 61 62 63 64 65 66 67 68 69]\n",
            "[[30 31 32 33 34 35 36 37 38 39]\n",
            " [40 41 42 43 44 45 46 47 48 49]\n",
            " [50 51 52 53 54 55 56 57 58 59]\n",
            " [60 61 62 63 64 65 66 67 68 69]\n",
            " [70 71 72 73 74 75 76 77 78 79]]\n",
            "55\n",
            "[ 4 14 24 34 44 54 64 74 84 94]\n",
            "[[ 1  2  3]\n",
            " [11 12 13]\n",
            " [21 22 23]\n",
            " [31 32 33]\n",
            " [41 42 43]\n",
            " [51 52 53]\n",
            " [61 62 63]\n",
            " [71 72 73]\n",
            " [81 82 83]\n",
            " [91 92 93]]\n"
          ],
          "name": "stdout"
        }
      ]
    }
  ]
}